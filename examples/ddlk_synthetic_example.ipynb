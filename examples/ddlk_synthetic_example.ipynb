{
 "cells": [
  {
   "cell_type": "code",
   "execution_count": null,
   "metadata": {},
   "outputs": [],
   "source": [
    "import argparse\n",
    "\n",
    "import numpy as np\n",
    "import pandas as pd\n",
    "import torch\n",
    "from matplotlib import pyplot as plt\n",
    "from sklearn.neural_network import MLPRegressor\n",
    "from sklearn.neighbors import KernelDensity\n",
    "from tqdm.notebook import tqdm\n",
    "\n",
    "import data\n",
    "import pytorch_lightning as pl\n",
    "from ddlk import ddlk, hrt, mdn, swap, utils\n",
    "from pytorch_lightning.callbacks import EarlyStopping\n",
    "from pytorch_lightning.loggers import TensorBoardLogger\n",
    "\n",
    "%matplotlib inline"
   ]
  },
  {
   "cell_type": "markdown",
   "metadata": {},
   "source": [
    "Set random seed for reproducibility"
   ]
  },
  {
   "cell_type": "code",
   "execution_count": null,
   "metadata": {},
   "outputs": [],
   "source": [
    "pl.trainer.seed_everything(42)"
   ]
  },
  {
   "cell_type": "code",
   "execution_count": null,
   "metadata": {},
   "outputs": [],
   "source": [
    "# Get GPUs. Uses GPU 0 by default\n",
    "num_gpus = torch.cuda.device_count()\n",
    "gpus = [0] if num_gpus > 0 else None"
   ]
  },
  {
   "cell_type": "markdown",
   "metadata": {},
   "source": [
    "# Data"
   ]
  },
  {
   "cell_type": "markdown",
   "metadata": {},
   "source": [
    "Create PyTorch data loaders"
   ]
  },
  {
   "cell_type": "code",
   "execution_count": null,
   "metadata": {},
   "outputs": [],
   "source": [
    "data_args = argparse.Namespace(dataset='gaussian_autoregressive_mixture',\n",
    "                          n_rel=2,\n",
    "                          signal_a=100,\n",
    "                          d=10,\n",
    "                          k=3,\n",
    "                          n=2000,\n",
    "                          rep=0,\n",
    "                          batch_size=64)"
   ]
  },
  {
   "cell_type": "code",
   "execution_count": null,
   "metadata": {},
   "outputs": [],
   "source": [
    "# get data\n",
    "trainloader, valloader, testloader = data.get_data(data_args)"
   ]
  },
  {
   "cell_type": "markdown",
   "metadata": {},
   "source": [
    "# Fit DDLK"
   ]
  },
  {
   "cell_type": "code",
   "execution_count": null,
   "metadata": {},
   "outputs": [],
   "source": [
    "((X_mu, ), (X_sigma, )) = utils.get_two_moments(trainloader)"
   ]
  },
  {
   "cell_type": "markdown",
   "metadata": {},
   "source": [
    "Fit `q_joint`"
   ]
  },
  {
   "cell_type": "code",
   "execution_count": null,
   "metadata": {},
   "outputs": [],
   "source": [
    "hparams = argparse.Namespace(X_mu=X_mu, X_sigma=X_sigma)"
   ]
  },
  {
   "cell_type": "code",
   "execution_count": null,
   "metadata": {
    "scrolled": true
   },
   "outputs": [],
   "source": [
    "q_joint = mdn.MDNJoint(hparams)\n",
    "trainer = pl.Trainer(max_epochs=50, num_sanity_val_steps=1, weights_summary=None, deterministic=True, gpus=gpus)\n",
    "trainer.fit(q_joint,\n",
    "            train_dataloader=trainloader,\n",
    "            val_dataloaders=[valloader])"
   ]
  },
  {
   "cell_type": "markdown",
   "metadata": {},
   "source": [
    "Fit `q_knockoff`"
   ]
  },
  {
   "cell_type": "code",
   "execution_count": null,
   "metadata": {},
   "outputs": [],
   "source": [
    "hparams = argparse.Namespace(X_mu=X_mu, X_sigma=X_sigma)\n",
    "\n",
    "q_knockoff = ddlk.DDLK(hparams, q_joint=q_joint)"
   ]
  },
  {
   "cell_type": "code",
   "execution_count": null,
   "metadata": {},
   "outputs": [],
   "source": [
    "trainer = pl.Trainer(max_epochs=100,\n",
    "                     num_sanity_val_steps=1,\n",
    "                     deterministic=True,\n",
    "                     gradient_clip_val=0.5,\n",
    "                     weights_summary=None, gpus=gpus)"
   ]
  },
  {
   "cell_type": "code",
   "execution_count": null,
   "metadata": {},
   "outputs": [],
   "source": [
    "trainer.fit(q_knockoff,\n",
    "                train_dataloader=trainloader,\n",
    "                val_dataloaders=[valloader])"
   ]
  },
  {
   "cell_type": "markdown",
   "metadata": {},
   "source": [
    "# Sample knockoffs"
   ]
  },
  {
   "cell_type": "code",
   "execution_count": null,
   "metadata": {},
   "outputs": [],
   "source": [
    "xTr, = utils.extract_data(trainloader)\n",
    "xTr = xTr.numpy()"
   ]
  },
  {
   "cell_type": "code",
   "execution_count": null,
   "metadata": {
    "scrolled": true
   },
   "outputs": [],
   "source": [
    "with torch.no_grad():\n",
    "    xTr_tilde = q_knockoff.sample(torch.tensor(xTr)).cpu().numpy()"
   ]
  },
  {
   "cell_type": "code",
   "execution_count": null,
   "metadata": {},
   "outputs": [],
   "source": [
    "# select 2 coordinates at random\n",
    "j1, j2 = np.random.permutation(10)[:2]"
   ]
  },
  {
   "cell_type": "code",
   "execution_count": null,
   "metadata": {},
   "outputs": [],
   "source": [
    "kde_data = KernelDensity(bandwidth=6)\n",
    "kde_data.fit(xTr[:, [j1, j2]])\n",
    "\n",
    "kde_ddlk = KernelDensity(bandwidth=6)\n",
    "kde_ddlk.fit(xTr_tilde[:, [j1, j2]])"
   ]
  },
  {
   "cell_type": "code",
   "execution_count": null,
   "metadata": {},
   "outputs": [],
   "source": [
    "xmin, xmax = -15, 55\n",
    "ymin, ymax = -15, 55\n",
    "\n",
    "# Peform kernel density estimate\n",
    "A, B = np.mgrid[xmin:xmax:100j, ymin:ymax:100j]\n",
    "positions = np.vstack([A.ravel(), B.ravel()])\n",
    "\n",
    "fig, axarr = plt.subplots(1, 2, figsize=(8, 4), sharex=True, sharey=True)\n",
    "\n",
    "# plot data\n",
    "f = np.exp(np.reshape(kde_data.score_samples(positions.T), A.shape))\n",
    "cfset = axarr[0].contourf(A, B, f, cmap='Blues')\n",
    "cset = axarr[0].contour(A, B, f, colors='k')\n",
    "axarr[0].clabel(cset, inline=1, fontsize=10)\n",
    "\n",
    "# plot ddlk sampled knockoffs\n",
    "f = np.exp(np.reshape(kde_ddlk.score_samples(positions.T), A.shape))\n",
    "cfset = axarr[1].contourf(A, B, f, cmap='Reds')\n",
    "cset = axarr[1].contour(A, B, f, colors='k')\n",
    "axarr[1].clabel(cset, inline=1, fontsize=10)\n",
    "\n",
    "axarr[0].set_title('data')\n",
    "axarr[1].set_title('ddlk')\n",
    "plt.show()"
   ]
  },
  {
   "cell_type": "markdown",
   "metadata": {},
   "source": [
    "# Perform variable selection"
   ]
  },
  {
   "cell_type": "code",
   "execution_count": null,
   "metadata": {},
   "outputs": [],
   "source": [
    "# set dataloaders to prediction mode\n",
    "trainloader.dataset.set_mode('prediction')\n",
    "valloader.dataset.set_mode('prediction')\n",
    "testloader.dataset.set_mode('prediction')\n",
    "\n",
    "# extract training and validation data\n",
    "xTr, yTr = utils.extract_data(trainloader)\n",
    "xVal, yVal = utils.extract_data(valloader)\n",
    "## concatenate xTr and xVal to use in HRT\n",
    "xTr = torch.cat([xTr, xVal], axis=0)\n",
    "yTr = torch.cat([yTr, yVal], axis=0)\n",
    "xTr = xTr.float()\n",
    "xVal = xVal.float()\n",
    "\n",
    "# extract test data\n",
    "xTe, yTe = utils.extract_data(testloader)\n",
    "xTe = xTe.float()\n",
    "\n",
    "with torch.no_grad():\n",
    "    xTr_tilde = q_knockoff.sample(xTr).cpu().numpy()\n",
    "    xTe_tilde = q_knockoff.sample(xTe).cpu().numpy()\n",
    "\n",
    "knockoff_test = hrt.HRT_Knockoffs(mixture_prop=0.5)\n",
    "\n",
    "knockoff_test.fit(xTr, yTr, xTr_tilde, tqdm=tqdm)"
   ]
  },
  {
   "cell_type": "code",
   "execution_count": null,
   "metadata": {},
   "outputs": [],
   "source": [
    "knockoff_statistics = knockoff_test.score(xTe, yTe, xTe_tilde, tqdm=tqdm)"
   ]
  },
  {
   "cell_type": "code",
   "execution_count": null,
   "metadata": {},
   "outputs": [],
   "source": [
    "knockoff_statistics = pd.Series(knockoff_statistics)\n",
    "results = pd.DataFrame(knockoff_statistics, columns=['statistic']).join(\n",
    "    pd.DataFrame(trainloader.dataset.beta.flatten(),\n",
    "                 index=np.arange(trainloader.dataset.beta.flatten().shape[0]),\n",
    "                 columns=['beta']))\n",
    "results.index.name = 'feature'"
   ]
  },
  {
   "cell_type": "code",
   "execution_count": null,
   "metadata": {},
   "outputs": [],
   "source": [
    "results"
   ]
  },
  {
   "cell_type": "code",
   "execution_count": null,
   "metadata": {},
   "outputs": [],
   "source": []
  },
  {
   "cell_type": "code",
   "execution_count": null,
   "metadata": {},
   "outputs": [],
   "source": []
  }
 ],
 "metadata": {
  "kernelspec": {
   "display_name": "Python 3",
   "language": "python",
   "name": "python3"
  },
  "language_info": {
   "codemirror_mode": {
    "name": "ipython",
    "version": 3
   },
   "file_extension": ".py",
   "mimetype": "text/x-python",
   "name": "python",
   "nbconvert_exporter": "python",
   "pygments_lexer": "ipython3",
   "version": "3.8.5"
  }
 },
 "nbformat": 4,
 "nbformat_minor": 2
}
